{
 "cells": [
  {
   "cell_type": "code",
   "execution_count": 54,
   "metadata": {
    "collapsed": true
   },
   "outputs": [],
   "source": [
    "# for data manipulation\n",
    "import pandas as pd\n",
    "import numpy as np\n",
    "\n",
    "# plotting graphs\n",
    "import matplotlib.pyplot as plt\n",
    "import seaborn as sns\n",
    "%matplotlib inline\n",
    "\n",
    "#models to run\n",
    "from sklearn.tree import DecisionTreeClassifier\n",
    "from sklearn.ensemble import RandomForestClassifier\n",
    "from sklearn.svm import SVC\n",
    "from sklearn.multiclass import OneVsRestClassifier\n",
    "from sklearn.multiclass import OneVsOneClassifier\n",
    "from sklearn.preprocessing import LabelBinarizer\n",
    "\n",
    "# train_test split\n",
    "from sklearn.model_selection import train_test_split,StratifiedKFold, cross_val_score\n",
    "\n",
    "#save model to file\n",
    "from sklearn.externals import joblib\n",
    "\n",
    "#metrics\n",
    "from sklearn.metrics import confusion_matrix,accuracy_score,precision_recall_fscore_support \n"
   ]
  },
  {
   "cell_type": "markdown",
   "metadata": {},
   "source": [
    "### Objective of sprint 1:\n",
    "1. Read csv file.\n",
    "2. Look at the shape of dataframe.\n",
    "3. Clean label.\n",
    "4. Check for duplicates and remove duplicates.\n",
    "5. A bar plot of distribution of labels, i.e. attack-types using ```sns.countplot```\n",
    "6. Convert labels into attack_types.\n",
    "    1. ['back', 'land', 'neptune', 'pod', 'smurf', 'teardrop'] -> 'dos'\n",
    "    2. ['buffer_overflow', 'loadmodule','perl', 'rootkit'] -> 'utr'\n",
    "    3. ['Ftp_write', 'guess_passwd', 'imap', 'multihop', 'phf', 'spy','warezclient', 'warezmaster'] -> 'rtl'\n",
    "    4. ['satan', 'ipsweep', 'nmap', 'portsweep'] -> 'probes'\n",
    "7. A bar plot of distribution of attack-type labels (normal, dos, utr, rtl, probes)\n",
    "8. Distribution of features\n",
    "    1. Categorical features : Use ```sns.countplot``` to understand prominent values of a feature in each class.\n",
    "    2. Continuous features : Use ```sns.boxplot``` to understand distribution of a feature in each class."
   ]
  },
  {
   "cell_type": "code",
   "execution_count": 55,
   "metadata": {
    "collapsed": false
   },
   "outputs": [],
   "source": [
    "# read raw data\n",
    "raw_data = pd.read_csv('../../../session_1_data_train.csv')"
   ]
  },
  {
   "cell_type": "code",
   "execution_count": 56,
   "metadata": {
    "collapsed": false
   },
   "outputs": [],
   "source": [
    "test_data = pd.read_csv('../../../session_1_data_test.csv')\n",
    "test_data.columns = raw_data.columns"
   ]
  },
  {
   "cell_type": "code",
   "execution_count": 57,
   "metadata": {
    "collapsed": false
   },
   "outputs": [
    {
     "data": {
      "text/html": [
       "<div>\n",
       "<style>\n",
       "    .dataframe thead tr:only-child th {\n",
       "        text-align: right;\n",
       "    }\n",
       "\n",
       "    .dataframe thead th {\n",
       "        text-align: left;\n",
       "    }\n",
       "\n",
       "    .dataframe tbody tr th {\n",
       "        vertical-align: top;\n",
       "    }\n",
       "</style>\n",
       "<table border=\"1\" class=\"dataframe\">\n",
       "  <thead>\n",
       "    <tr style=\"text-align: right;\">\n",
       "      <th></th>\n",
       "      <th>duration</th>\n",
       "      <th>protocol_type</th>\n",
       "      <th>service</th>\n",
       "      <th>flag</th>\n",
       "      <th>src_bytes</th>\n",
       "      <th>dst_bytes</th>\n",
       "      <th>land</th>\n",
       "      <th>wrong_fragment</th>\n",
       "      <th>urgent</th>\n",
       "      <th>hot</th>\n",
       "      <th>...</th>\n",
       "      <th>dst_host_srv_count</th>\n",
       "      <th>dst_host_same_srv_rate</th>\n",
       "      <th>dst_host_diff_srv_rate</th>\n",
       "      <th>dst_host_same_src_port_rate</th>\n",
       "      <th>dst_host_srv_diff_host_rate</th>\n",
       "      <th>dst_host_serror_rate</th>\n",
       "      <th>dst_host_srv_serror_rate</th>\n",
       "      <th>dst_host_rerror_rate</th>\n",
       "      <th>dst_host_srv_rerror_rate</th>\n",
       "      <th>label</th>\n",
       "    </tr>\n",
       "  </thead>\n",
       "  <tbody>\n",
       "    <tr>\n",
       "      <th>0</th>\n",
       "      <td>0</td>\n",
       "      <td>tcp</td>\n",
       "      <td>http</td>\n",
       "      <td>SF</td>\n",
       "      <td>181</td>\n",
       "      <td>5450</td>\n",
       "      <td>0</td>\n",
       "      <td>0</td>\n",
       "      <td>0</td>\n",
       "      <td>0</td>\n",
       "      <td>...</td>\n",
       "      <td>9</td>\n",
       "      <td>1.0</td>\n",
       "      <td>0.0</td>\n",
       "      <td>0.11</td>\n",
       "      <td>0.0</td>\n",
       "      <td>0.0</td>\n",
       "      <td>0.0</td>\n",
       "      <td>0.0</td>\n",
       "      <td>0.0</td>\n",
       "      <td>normal.</td>\n",
       "    </tr>\n",
       "    <tr>\n",
       "      <th>1</th>\n",
       "      <td>0</td>\n",
       "      <td>tcp</td>\n",
       "      <td>http</td>\n",
       "      <td>SF</td>\n",
       "      <td>239</td>\n",
       "      <td>486</td>\n",
       "      <td>0</td>\n",
       "      <td>0</td>\n",
       "      <td>0</td>\n",
       "      <td>0</td>\n",
       "      <td>...</td>\n",
       "      <td>19</td>\n",
       "      <td>1.0</td>\n",
       "      <td>0.0</td>\n",
       "      <td>0.05</td>\n",
       "      <td>0.0</td>\n",
       "      <td>0.0</td>\n",
       "      <td>0.0</td>\n",
       "      <td>0.0</td>\n",
       "      <td>0.0</td>\n",
       "      <td>normal.</td>\n",
       "    </tr>\n",
       "    <tr>\n",
       "      <th>2</th>\n",
       "      <td>0</td>\n",
       "      <td>tcp</td>\n",
       "      <td>http</td>\n",
       "      <td>SF</td>\n",
       "      <td>235</td>\n",
       "      <td>1337</td>\n",
       "      <td>0</td>\n",
       "      <td>0</td>\n",
       "      <td>0</td>\n",
       "      <td>0</td>\n",
       "      <td>...</td>\n",
       "      <td>29</td>\n",
       "      <td>1.0</td>\n",
       "      <td>0.0</td>\n",
       "      <td>0.03</td>\n",
       "      <td>0.0</td>\n",
       "      <td>0.0</td>\n",
       "      <td>0.0</td>\n",
       "      <td>0.0</td>\n",
       "      <td>0.0</td>\n",
       "      <td>normal.</td>\n",
       "    </tr>\n",
       "    <tr>\n",
       "      <th>3</th>\n",
       "      <td>0</td>\n",
       "      <td>tcp</td>\n",
       "      <td>http</td>\n",
       "      <td>SF</td>\n",
       "      <td>219</td>\n",
       "      <td>1337</td>\n",
       "      <td>0</td>\n",
       "      <td>0</td>\n",
       "      <td>0</td>\n",
       "      <td>0</td>\n",
       "      <td>...</td>\n",
       "      <td>39</td>\n",
       "      <td>1.0</td>\n",
       "      <td>0.0</td>\n",
       "      <td>0.03</td>\n",
       "      <td>0.0</td>\n",
       "      <td>0.0</td>\n",
       "      <td>0.0</td>\n",
       "      <td>0.0</td>\n",
       "      <td>0.0</td>\n",
       "      <td>normal.</td>\n",
       "    </tr>\n",
       "    <tr>\n",
       "      <th>4</th>\n",
       "      <td>0</td>\n",
       "      <td>tcp</td>\n",
       "      <td>http</td>\n",
       "      <td>SF</td>\n",
       "      <td>217</td>\n",
       "      <td>2032</td>\n",
       "      <td>0</td>\n",
       "      <td>0</td>\n",
       "      <td>0</td>\n",
       "      <td>0</td>\n",
       "      <td>...</td>\n",
       "      <td>49</td>\n",
       "      <td>1.0</td>\n",
       "      <td>0.0</td>\n",
       "      <td>0.02</td>\n",
       "      <td>0.0</td>\n",
       "      <td>0.0</td>\n",
       "      <td>0.0</td>\n",
       "      <td>0.0</td>\n",
       "      <td>0.0</td>\n",
       "      <td>normal.</td>\n",
       "    </tr>\n",
       "  </tbody>\n",
       "</table>\n",
       "<p>5 rows × 42 columns</p>\n",
       "</div>"
      ],
      "text/plain": [
       "   duration protocol_type service flag  src_bytes  dst_bytes  land  \\\n",
       "0         0           tcp    http   SF        181       5450     0   \n",
       "1         0           tcp    http   SF        239        486     0   \n",
       "2         0           tcp    http   SF        235       1337     0   \n",
       "3         0           tcp    http   SF        219       1337     0   \n",
       "4         0           tcp    http   SF        217       2032     0   \n",
       "\n",
       "   wrong_fragment  urgent  hot   ...     dst_host_srv_count  \\\n",
       "0               0       0    0   ...                      9   \n",
       "1               0       0    0   ...                     19   \n",
       "2               0       0    0   ...                     29   \n",
       "3               0       0    0   ...                     39   \n",
       "4               0       0    0   ...                     49   \n",
       "\n",
       "   dst_host_same_srv_rate  dst_host_diff_srv_rate  \\\n",
       "0                     1.0                     0.0   \n",
       "1                     1.0                     0.0   \n",
       "2                     1.0                     0.0   \n",
       "3                     1.0                     0.0   \n",
       "4                     1.0                     0.0   \n",
       "\n",
       "   dst_host_same_src_port_rate  dst_host_srv_diff_host_rate  \\\n",
       "0                         0.11                          0.0   \n",
       "1                         0.05                          0.0   \n",
       "2                         0.03                          0.0   \n",
       "3                         0.03                          0.0   \n",
       "4                         0.02                          0.0   \n",
       "\n",
       "   dst_host_serror_rate  dst_host_srv_serror_rate  dst_host_rerror_rate  \\\n",
       "0                   0.0                       0.0                   0.0   \n",
       "1                   0.0                       0.0                   0.0   \n",
       "2                   0.0                       0.0                   0.0   \n",
       "3                   0.0                       0.0                   0.0   \n",
       "4                   0.0                       0.0                   0.0   \n",
       "\n",
       "   dst_host_srv_rerror_rate    label  \n",
       "0                       0.0  normal.  \n",
       "1                       0.0  normal.  \n",
       "2                       0.0  normal.  \n",
       "3                       0.0  normal.  \n",
       "4                       0.0  normal.  \n",
       "\n",
       "[5 rows x 42 columns]"
      ]
     },
     "execution_count": 57,
     "metadata": {},
     "output_type": "execute_result"
    }
   ],
   "source": [
    "raw_data.head()"
   ]
  },
  {
   "cell_type": "code",
   "execution_count": 58,
   "metadata": {
    "collapsed": false
   },
   "outputs": [
    {
     "data": {
      "text/plain": [
       "Index([u'smurf.', u'neptune.', u'normal.', u'back.', u'satan.', u'ipsweep.',\n",
       "       u'portsweep.', u'warezclient.', u'teardrop.', u'pod.', u'nmap.',\n",
       "       u'guess_passwd.', u'buffer_overflow.', u'land.', u'warezmaster.',\n",
       "       u'imap.', u'rootkit.', u'loadmodule.', u'ftp_write.', u'multihop.',\n",
       "       u'phf.', u'perl.', u'spy.'],\n",
       "      dtype='object')"
      ]
     },
     "execution_count": 58,
     "metadata": {},
     "output_type": "execute_result"
    }
   ],
   "source": [
    "raw_data.label.value_counts().keys()"
   ]
  },
  {
   "cell_type": "code",
   "execution_count": 59,
   "metadata": {
    "collapsed": false
   },
   "outputs": [
    {
     "data": {
      "text/plain": [
       "Index([u'smurf.', u'normal.', u'neptune.', u'snmpgetattack.', u'mailbomb.',\n",
       "       u'guess_passwd.', u'snmpguess.', u'satan.', u'warezmaster.', u'back.',\n",
       "       u'mscan.', u'apache2.', u'processtable.', u'saint.', u'portsweep.',\n",
       "       u'ipsweep.', u'httptunnel.', u'pod.', u'nmap.', u'buffer_overflow.',\n",
       "       u'multihop.', u'named.', u'sendmail.', u'ps.', u'xterm.', u'rootkit.',\n",
       "       u'teardrop.', u'xlock.', u'land.', u'xsnoop.', u'ftp_write.',\n",
       "       u'sqlattack.', u'loadmodule.', u'worm.', u'perl.', u'phf.',\n",
       "       u'udpstorm.', u'imap.'],\n",
       "      dtype='object')"
      ]
     },
     "execution_count": 59,
     "metadata": {},
     "output_type": "execute_result"
    }
   ],
   "source": [
    "test_data.label.value_counts().keys()"
   ]
  },
  {
   "cell_type": "code",
   "execution_count": 60,
   "metadata": {
    "collapsed": true
   },
   "outputs": [],
   "source": [
    "# remove \". \" from labels\n",
    "raw_data['label'] = raw_data['label'].apply(lambda x: x[:-1])\n",
    "test_data['label'] = test_data['label'].apply(lambda x: x[:-1])"
   ]
  },
  {
   "cell_type": "code",
   "execution_count": 61,
   "metadata": {
    "collapsed": true
   },
   "outputs": [],
   "source": [
    "# drop duplicate records\n",
    "raw_data.drop_duplicates(inplace = True)\n",
    "test_data.drop_duplicates(inplace = True)"
   ]
  },
  {
   "cell_type": "code",
   "execution_count": 62,
   "metadata": {
    "collapsed": false
   },
   "outputs": [
    {
     "data": {
      "text/plain": [
       "(array([ 0,  1,  2,  3,  4,  5,  6,  7,  8,  9, 10, 11, 12, 13, 14, 15, 16,\n",
       "        17, 18, 19, 20, 21, 22]), <a list of 23 Text xticklabel objects>)"
      ]
     },
     "execution_count": 62,
     "metadata": {},
     "output_type": "execute_result"
    },
    {
     "data": {
      "image/png": "[encoded data removed]",
      "text/plain": [
       "<matplotlib.figure.Figure at 0x11afd4a10>"
      ]
     },
     "metadata": {},
     "output_type": "display_data"
    }
   ],
   "source": [
    "# distribution of labels\n",
    "\n",
    "sns.set_color_codes()\n",
    "\n",
    "fig, ax1 = plt.subplots(1,1, figsize = (18,6))\n",
    "\n",
    "sns.countplot('label', data = raw_data,palette=\"Set2\", ax = ax1)\n",
    "plt.xticks(rotation=30)"
   ]
  },
  {
   "cell_type": "code",
   "execution_count": 63,
   "metadata": {
    "collapsed": true
   },
   "outputs": [],
   "source": [
    "# combining labels as normal, denial of Service, user to root, remote to local, probes\n",
    "\n",
    "def label_grouping(label):\n",
    "    if label in ['back', 'land', 'neptune', 'pod', 'smurf', 'teardrop']: \n",
    "        return 'dos'\n",
    "    elif label in ['buffer_overflow', 'loadmodule','perl', 'rootkit']:\n",
    "        return 'utr'\n",
    "    elif label in ['Ftp_write', 'guess_passwd', 'imap', 'multihop', 'phf', 'spy','warezclient', 'warezmaster']:\n",
    "        return 'rtl'\n",
    "    elif label in ['satan', 'ipsweep', 'nmap', 'portsweep']:\n",
    "        return 'probes'\n",
    "    elif label=='normal':\n",
    "        return 'normal'\n",
    "    else:\n",
    "        return 'others'\n",
    "\n",
    "raw_data['label_attack_type']= raw_data['label'].apply(label_grouping)\n",
    "test_data['label_attack_type']= test_data['label'].apply(label_grouping)"
   ]
  },
  {
   "cell_type": "code",
   "execution_count": 64,
   "metadata": {
    "collapsed": false
   },
   "outputs": [
    {
     "data": {
      "text/plain": [
       "normal    87831\n",
       "dos       54572\n",
       "probes     2131\n",
       "rtl         991\n",
       "utr          52\n",
       "others        8\n",
       "Name: label_attack_type, dtype: int64"
      ]
     },
     "execution_count": 64,
     "metadata": {},
     "output_type": "execute_result"
    }
   ],
   "source": [
    "raw_data['label_attack_type'].value_counts()"
   ]
  },
  {
   "cell_type": "code",
   "execution_count": 65,
   "metadata": {
    "collapsed": false
   },
   "outputs": [
    {
     "data": {
      "text/plain": [
       "normal    47913\n",
       "dos       21720\n",
       "others     4025\n",
       "rtl        2325\n",
       "probes     1269\n",
       "utr          39\n",
       "Name: label_attack_type, dtype: int64"
      ]
     },
     "execution_count": 65,
     "metadata": {},
     "output_type": "execute_result"
    }
   ],
   "source": [
    "test_data['label_attack_type'].value_counts()"
   ]
  },
  {
   "cell_type": "code",
   "execution_count": 66,
   "metadata": {
    "collapsed": false
   },
   "outputs": [
    {
     "data": {
      "text/plain": [
       "(array([0, 1, 2, 3, 4, 5]), <a list of 6 Text xticklabel objects>)"
      ]
     },
     "execution_count": 66,
     "metadata": {},
     "output_type": "execute_result"
    },
    {
     "data": {
      "image/png": "[encoded data removed]",
      "text/plain": [
       "<matplotlib.figure.Figure at 0x11a99bf50>"
      ]
     },
     "metadata": {},
     "output_type": "display_data"
    }
   ],
   "source": [
    "# distribution of label_attack_type\n",
    "\n",
    "fig, ax1 = plt.subplots(1,1, figsize = (18,6))\n",
    "\n",
    "sns.countplot('label_attack_type', data = raw_data,palette=\"Set2\", ax = ax1)\n",
    "plt.xticks(rotation=10)"
   ]
  },
  {
   "cell_type": "code",
   "execution_count": 67,
   "metadata": {
    "collapsed": false
   },
   "outputs": [
    {
     "data": {
      "text/plain": [
       "Index([u'duration', u'protocol_type', u'service', u'flag', u'src_bytes',\n",
       "       u'dst_bytes', u'land', u'wrong_fragment', u'urgent', u'hot',\n",
       "       u'num_failed_logins', u'logged_in', u'num_compromised', u'root_shell',\n",
       "       u'su_attempted', u'num_root', u'num_file_creations', u'num_shells',\n",
       "       u'num_access_files', u'num_outbound_cmds', u'is_host_login',\n",
       "       u'is_guest_login', u'count', u'srv_count', u'serror_rate',\n",
       "       u'srv_serror_rate', u'rerror_rate', u'srv_rerror_rate',\n",
       "       u'same_srv_rate', u'diff_srv_rate', u'srv_diff_host_rate',\n",
       "       u'dst_host_count', u'dst_host_srv_count', u'dst_host_same_srv_rate',\n",
       "       u'dst_host_diff_srv_rate', u'dst_host_same_src_port_rate',\n",
       "       u'dst_host_srv_diff_host_rate', u'dst_host_serror_rate',\n",
       "       u'dst_host_srv_serror_rate', u'dst_host_rerror_rate',\n",
       "       u'dst_host_srv_rerror_rate', u'label', u'label_attack_type'],\n",
       "      dtype='object')"
      ]
     },
     "execution_count": 67,
     "metadata": {},
     "output_type": "execute_result"
    }
   ],
   "source": [
    "raw_data.columns"
   ]
  },
  {
   "cell_type": "code",
   "execution_count": 68,
   "metadata": {
    "collapsed": false
   },
   "outputs": [
    {
     "data": {
      "image/png": "[encoded data removed]",
      "text/plain": [
       "<matplotlib.figure.Figure at 0x119182a10>"
      ]
     },
     "metadata": {},
     "output_type": "display_data"
    },
    {
     "data": {
      "image/png": "[encoded data removed]",
      "text/plain": [
       "<matplotlib.figure.Figure at 0x11a991310>"
      ]
     },
     "metadata": {},
     "output_type": "display_data"
    },
    {
     "data": {
      "image/png": "[encoded data removed]",
      "text/plain": [
       "<matplotlib.figure.Figure at 0x119d983d0>"
      ]
     },
     "metadata": {},
     "output_type": "display_data"
    },
    {
     "data": {
      "image/png": "[encoded data removed]",
      "text/plain": [
       "<matplotlib.figure.Figure at 0x11eab0a90>"
      ]
     },
     "metadata": {},
     "output_type": "display_data"
    },
    {
     "data": {
      "image/png": "[encoded data removed]",
      "text/plain": [
       "<matplotlib.figure.Figure at 0x12195db10>"
      ]
     },
     "metadata": {},
     "output_type": "display_data"
    },
    {
     "data": {
      "image/png": "[encoded data removed]",
      "text/plain": [
       "<matplotlib.figure.Figure at 0x12161c5d0>"
      ]
     },
     "metadata": {},
     "output_type": "display_data"
    }
   ],
   "source": [
    "# distribution of categorical variables with 'label_attack_type'\n",
    "sns.set()\n",
    "categorical_cols = ['protocol_type','flag','land','logged_in','is_host_login','is_guest_login']\n",
    "\n",
    "for col in categorical_cols:\n",
    "    plt.figure()\n",
    "    sns.countplot(x=col, hue=\"label_attack_type\",data=raw_data, palette=\"Set2\")"
   ]
  },
  {
   "cell_type": "markdown",
   "metadata": {},
   "source": [
    "### Objective of sprint 2 (~30 minutes):\n",
    "1. Convert data labels to numerical values. {dos=1,utr=2,rtl=3,probes=4,normal=0}\n",
    "3. One-hot encoding of categorical features i.e. flag and protocol_type.\n",
    "4. Stratified sampling. Use ```train_test_split```. Keep a 70-30 split in training-testing data split.\n",
    "5. Write evaluation function to calculate accuracy, precision, recall, roc_auc_curve, confusion matrix. Call it ```get_performance_metrics(y_test, model_predictions)```\n",
    "6. Fit different models and calculate performance metrics.\n",
    "    1. Use Naive Bayes, Logistic Regression.\n",
    "    2. Use Decision Tree."
   ]
  },
  {
   "cell_type": "code",
   "execution_count": 69,
   "metadata": {
    "collapsed": false
   },
   "outputs": [
    {
     "data": {
      "text/plain": [
       "0    87831\n",
       "1    54572\n",
       "4     2131\n",
       "3      991\n",
       "2       52\n",
       "5        8\n",
       "Name: label_encoding, dtype: int64"
      ]
     },
     "execution_count": 69,
     "metadata": {},
     "output_type": "execute_result"
    }
   ],
   "source": [
    "def get_label_encoding(label):\n",
    "    if label == 'dos':\n",
    "        return 1\n",
    "    elif label == 'utr':\n",
    "        return 2\n",
    "    elif label == 'rtl':\n",
    "        return 3\n",
    "    elif label == 'probes':\n",
    "        return 4\n",
    "    elif label == 'others':\n",
    "        return 5\n",
    "    else:\n",
    "        return 0\n",
    "\n",
    "raw_data['label_encoding']= raw_data['label_attack_type'].apply(get_label_encoding)\n",
    "test_data['label_encoding']= test_data['label_attack_type'].apply(get_label_encoding)\n",
    "raw_data['label_encoding'].value_counts()"
   ]
  },
  {
   "cell_type": "code",
   "execution_count": 70,
   "metadata": {
    "collapsed": false
   },
   "outputs": [],
   "source": [
    "#one hot encoding of categorical variables\n",
    "flag_encoding_test = pd.get_dummies(test_data['flag'],prefix = 'flag')\n",
    "protocol_encoding_test = pd.get_dummies(test_data['protocol_type'],prefix = 'protocol')\n",
    "\n",
    "# concat with original dataframe\n",
    "test_data = pd.concat([test_data, flag_encoding_test,protocol_encoding_test],axis =1)"
   ]
  },
  {
   "cell_type": "code",
   "execution_count": 71,
   "metadata": {
    "collapsed": true
   },
   "outputs": [],
   "source": [
    "#one hot encoding of categorical variables\n",
    "flag_encoding_raw = pd.get_dummies(raw_data['flag'],prefix = 'flag')\n",
    "protocol_encoding_raw = pd.get_dummies(raw_data['protocol_type'],prefix = 'protocol')\n",
    "\n",
    "# concat with original dataframe\n",
    "raw_data = pd.concat([raw_data, flag_encoding_raw,protocol_encoding_raw],axis =1)"
   ]
  },
  {
   "cell_type": "code",
   "execution_count": 72,
   "metadata": {
    "collapsed": false
   },
   "outputs": [
    {
     "data": {
      "text/html": [
       "<div>\n",
       "<style>\n",
       "    .dataframe thead tr:only-child th {\n",
       "        text-align: right;\n",
       "    }\n",
       "\n",
       "    .dataframe thead th {\n",
       "        text-align: left;\n",
       "    }\n",
       "\n",
       "    .dataframe tbody tr th {\n",
       "        vertical-align: top;\n",
       "    }\n",
       "</style>\n",
       "<table border=\"1\" class=\"dataframe\">\n",
       "  <thead>\n",
       "    <tr style=\"text-align: right;\">\n",
       "      <th></th>\n",
       "      <th>duration</th>\n",
       "      <th>protocol_type</th>\n",
       "      <th>service</th>\n",
       "      <th>flag</th>\n",
       "      <th>src_bytes</th>\n",
       "      <th>dst_bytes</th>\n",
       "      <th>land</th>\n",
       "      <th>wrong_fragment</th>\n",
       "      <th>urgent</th>\n",
       "      <th>hot</th>\n",
       "      <th>...</th>\n",
       "      <th>flag_RSTR</th>\n",
       "      <th>flag_S0</th>\n",
       "      <th>flag_S1</th>\n",
       "      <th>flag_S2</th>\n",
       "      <th>flag_S3</th>\n",
       "      <th>flag_SF</th>\n",
       "      <th>flag_SH</th>\n",
       "      <th>protocol_icmp</th>\n",
       "      <th>protocol_tcp</th>\n",
       "      <th>protocol_udp</th>\n",
       "    </tr>\n",
       "  </thead>\n",
       "  <tbody>\n",
       "    <tr>\n",
       "      <th>0</th>\n",
       "      <td>0</td>\n",
       "      <td>tcp</td>\n",
       "      <td>http</td>\n",
       "      <td>SF</td>\n",
       "      <td>181</td>\n",
       "      <td>5450</td>\n",
       "      <td>0</td>\n",
       "      <td>0</td>\n",
       "      <td>0</td>\n",
       "      <td>0</td>\n",
       "      <td>...</td>\n",
       "      <td>0</td>\n",
       "      <td>0</td>\n",
       "      <td>0</td>\n",
       "      <td>0</td>\n",
       "      <td>0</td>\n",
       "      <td>1</td>\n",
       "      <td>0</td>\n",
       "      <td>0</td>\n",
       "      <td>1</td>\n",
       "      <td>0</td>\n",
       "    </tr>\n",
       "    <tr>\n",
       "      <th>1</th>\n",
       "      <td>0</td>\n",
       "      <td>tcp</td>\n",
       "      <td>http</td>\n",
       "      <td>SF</td>\n",
       "      <td>239</td>\n",
       "      <td>486</td>\n",
       "      <td>0</td>\n",
       "      <td>0</td>\n",
       "      <td>0</td>\n",
       "      <td>0</td>\n",
       "      <td>...</td>\n",
       "      <td>0</td>\n",
       "      <td>0</td>\n",
       "      <td>0</td>\n",
       "      <td>0</td>\n",
       "      <td>0</td>\n",
       "      <td>1</td>\n",
       "      <td>0</td>\n",
       "      <td>0</td>\n",
       "      <td>1</td>\n",
       "      <td>0</td>\n",
       "    </tr>\n",
       "    <tr>\n",
       "      <th>2</th>\n",
       "      <td>0</td>\n",
       "      <td>tcp</td>\n",
       "      <td>http</td>\n",
       "      <td>SF</td>\n",
       "      <td>235</td>\n",
       "      <td>1337</td>\n",
       "      <td>0</td>\n",
       "      <td>0</td>\n",
       "      <td>0</td>\n",
       "      <td>0</td>\n",
       "      <td>...</td>\n",
       "      <td>0</td>\n",
       "      <td>0</td>\n",
       "      <td>0</td>\n",
       "      <td>0</td>\n",
       "      <td>0</td>\n",
       "      <td>1</td>\n",
       "      <td>0</td>\n",
       "      <td>0</td>\n",
       "      <td>1</td>\n",
       "      <td>0</td>\n",
       "    </tr>\n",
       "    <tr>\n",
       "      <th>3</th>\n",
       "      <td>0</td>\n",
       "      <td>tcp</td>\n",
       "      <td>http</td>\n",
       "      <td>SF</td>\n",
       "      <td>219</td>\n",
       "      <td>1337</td>\n",
       "      <td>0</td>\n",
       "      <td>0</td>\n",
       "      <td>0</td>\n",
       "      <td>0</td>\n",
       "      <td>...</td>\n",
       "      <td>0</td>\n",
       "      <td>0</td>\n",
       "      <td>0</td>\n",
       "      <td>0</td>\n",
       "      <td>0</td>\n",
       "      <td>1</td>\n",
       "      <td>0</td>\n",
       "      <td>0</td>\n",
       "      <td>1</td>\n",
       "      <td>0</td>\n",
       "    </tr>\n",
       "    <tr>\n",
       "      <th>4</th>\n",
       "      <td>0</td>\n",
       "      <td>tcp</td>\n",
       "      <td>http</td>\n",
       "      <td>SF</td>\n",
       "      <td>217</td>\n",
       "      <td>2032</td>\n",
       "      <td>0</td>\n",
       "      <td>0</td>\n",
       "      <td>0</td>\n",
       "      <td>0</td>\n",
       "      <td>...</td>\n",
       "      <td>0</td>\n",
       "      <td>0</td>\n",
       "      <td>0</td>\n",
       "      <td>0</td>\n",
       "      <td>0</td>\n",
       "      <td>1</td>\n",
       "      <td>0</td>\n",
       "      <td>0</td>\n",
       "      <td>1</td>\n",
       "      <td>0</td>\n",
       "    </tr>\n",
       "  </tbody>\n",
       "</table>\n",
       "<p>5 rows × 58 columns</p>\n",
       "</div>"
      ],
      "text/plain": [
       "   duration protocol_type service flag  src_bytes  dst_bytes  land  \\\n",
       "0         0           tcp    http   SF        181       5450     0   \n",
       "1         0           tcp    http   SF        239        486     0   \n",
       "2         0           tcp    http   SF        235       1337     0   \n",
       "3         0           tcp    http   SF        219       1337     0   \n",
       "4         0           tcp    http   SF        217       2032     0   \n",
       "\n",
       "   wrong_fragment  urgent  hot      ...       flag_RSTR  flag_S0  flag_S1  \\\n",
       "0               0       0    0      ...               0        0        0   \n",
       "1               0       0    0      ...               0        0        0   \n",
       "2               0       0    0      ...               0        0        0   \n",
       "3               0       0    0      ...               0        0        0   \n",
       "4               0       0    0      ...               0        0        0   \n",
       "\n",
       "   flag_S2  flag_S3  flag_SF  flag_SH  protocol_icmp  protocol_tcp  \\\n",
       "0        0        0        1        0              0             1   \n",
       "1        0        0        1        0              0             1   \n",
       "2        0        0        1        0              0             1   \n",
       "3        0        0        1        0              0             1   \n",
       "4        0        0        1        0              0             1   \n",
       "\n",
       "   protocol_udp  \n",
       "0             0  \n",
       "1             0  \n",
       "2             0  \n",
       "3             0  \n",
       "4             0  \n",
       "\n",
       "[5 rows x 58 columns]"
      ]
     },
     "execution_count": 72,
     "metadata": {},
     "output_type": "execute_result"
    }
   ],
   "source": [
    "raw_data.head()"
   ]
  },
  {
   "cell_type": "markdown",
   "metadata": {},
   "source": [
    "### Train test split"
   ]
  },
  {
   "cell_type": "code",
   "execution_count": 73,
   "metadata": {
    "collapsed": true
   },
   "outputs": [],
   "source": [
    "\n",
    "predictors = [c for c in raw_data.columns if c not in ['label', 'label_attack_type', 'index', 'protocol_type',\n",
    "                                                   'flag','service','is_host_login','label_encoding',\n",
    "                                                    'count','same_srv_rate','diff_srv_rate','src_bytes','flag_SF',\n",
    "                                                      'dst_host_same_srv_rate','dst_host_srv_count',\n",
    "                                                       'dst_bytes','dst_host_srv_serror_rate',\n",
    "                                                       'dst_host_diff_srv_rate','dst_host_serror_rate'\n",
    "                                                      'srv_serror_rate','flag_S0','serror_rate','logged_in',\n",
    "                                                       'dst_host_same_src_port_rate','dst_host_count']]\n",
    "\n",
    "X_train = raw_data[predictors]\n",
    "y_train = raw_data['label_encoding']\n",
    "X_test = test_data[predictors]\n",
    "y_test = test_data['label_encoding']"
   ]
  },
  {
   "cell_type": "code",
   "execution_count": 75,
   "metadata": {
    "collapsed": false,
    "scrolled": false
   },
   "outputs": [
    {
     "data": {
      "text/plain": [
       "<matplotlib.axes._subplots.AxesSubplot at 0x119e32650>"
      ]
     },
     "execution_count": 75,
     "metadata": {},
     "output_type": "execute_result"
    },
    {
     "data": {
      "image/png": "[encoded data removed]",
      "text/plain": [
       "<matplotlib.figure.Figure at 0x1174c74d0>"
      ]
     },
     "metadata": {},
     "output_type": "display_data"
    }
   ],
   "source": [
    "sns.countplot(y_train)"
   ]
  },
  {
   "cell_type": "code",
   "execution_count": 22,
   "metadata": {
    "collapsed": false
   },
   "outputs": [
    {
     "data": {
      "text/plain": [
       "<matplotlib.axes._subplots.AxesSubplot at 0x11bf202d0>"
      ]
     },
     "execution_count": 22,
     "metadata": {},
     "output_type": "execute_result"
    },
    {
     "data": {
      "image/png": "[encoded data removed]",
      "text/plain": [
       "<matplotlib.figure.Figure at 0x11bd3b2d0>"
      ]
     },
     "metadata": {},
     "output_type": "display_data"
    }
   ],
   "source": [
    "sns.countplot(y_test)"
   ]
  },
  {
   "cell_type": "markdown",
   "metadata": {},
   "source": [
    "##### Evaluation function   \n",
    "Metrics - Accuracy, precision, recall, F1 score, Confusion matrix, roc_auc "
   ]
  },
  {
   "cell_type": "code",
   "execution_count": 82,
   "metadata": {
    "collapsed": true
   },
   "outputs": [],
   "source": [
    "def get_performance_metrics(y_test,model_predictions):\n",
    "    # Accuracy\n",
    "    model_accuracy = accuracy_score(y_test,model_predictions)\n",
    "    print(\"Accuracy is \", model_accuracy)\n",
    "\n",
    "    # precision, recall, f1 score\n",
    "    model_precision, model_recall, model_f1, _ = precision_recall_fscore_support(y_test,model_predictions)\n",
    "    print('Precision for each class is ', model_precision)\n",
    "    print('Recall/sensitivity for each class is ', model_recall)\n",
    "    print('F1 Score for each class is ', model_f1)\n",
    "\n",
    "    # confusion matrix\n",
    "    model_confusion_matrix = confusion_matrix(y_test,model_predictions)\n",
    "    print('confusion matrix is :-->')\n",
    "    print(model_confusion_matrix)"
   ]
  },
  {
   "cell_type": "markdown",
   "metadata": {},
   "source": [
    "### Decision Tree"
   ]
  },
  {
   "cell_type": "code",
   "execution_count": 24,
   "metadata": {
    "collapsed": false
   },
   "outputs": [
    {
     "data": {
      "text/plain": [
       "DecisionTreeClassifier(class_weight=None, criterion='gini', max_depth=None,\n",
       "            max_features=None, max_leaf_nodes=None,\n",
       "            min_impurity_decrease=0.0, min_impurity_split=None,\n",
       "            min_samples_leaf=1, min_samples_split=2,\n",
       "            min_weight_fraction_leaf=0.0, presort=False, random_state=3,\n",
       "            splitter='best')"
      ]
     },
     "execution_count": 24,
     "metadata": {},
     "output_type": "execute_result"
    }
   ],
   "source": [
    "#create instance of decision tree\n",
    "dt_model = DecisionTreeClassifier(random_state = 3)\n",
    "dt_model.fit(X_train, y_train)"
   ]
  },
  {
   "cell_type": "code",
   "execution_count": 25,
   "metadata": {
    "collapsed": true
   },
   "outputs": [],
   "source": [
    "#making predictions\n",
    "dt_predictions = dt_model.predict(X_test)"
   ]
  },
  {
   "cell_type": "code",
   "execution_count": 26,
   "metadata": {
    "collapsed": false
   },
   "outputs": [
    {
     "name": "stdout",
     "output_type": "stream",
     "text": [
      "('Accuracy is ', 0.89597753942891156)\n",
      "('Precision for each class is ', array([ 0.90680662,  0.98593973,  0.4516129 ,  0.63287402,  0.27464789,  1.        ]))\n",
      "('Recall/sensitivity for each class is ', array([  9.93488197e-01,   9.23342541e-01,   3.58974359e-01,\n",
      "         2.76559140e-01,   7.37588652e-01,   4.96894410e-04]))\n",
      "('F1 Score for each class is ', array([ 0.94817043,  0.95361499,  0.4       ,  0.3849147 ,  0.40025657,\n",
      "        0.0009933 ]))\n",
      "confusion matrix is :-->\n",
      "[[47601    63     8    86   155     0]\n",
      " [  228 20055     0    16  1421     0]\n",
      " [   17     0    14     8     0     0]\n",
      " [ 1587     0     2   643    93     0]\n",
      " [  308    25     0     0   936     0]\n",
      " [ 2752   198     7   263   803     2]]\n"
     ]
    }
   ],
   "source": [
    "get_performance_metrics(y_test,dt_predictions)"
   ]
  },
  {
   "cell_type": "markdown",
   "metadata": {},
   "source": [
    "### Support Vector Machine"
   ]
  },
  {
   "cell_type": "code",
   "execution_count": 27,
   "metadata": {
    "collapsed": true
   },
   "outputs": [],
   "source": [
    "svc_model = SVC()"
   ]
  },
  {
   "cell_type": "code",
   "execution_count": null,
   "metadata": {
    "collapsed": false
   },
   "outputs": [],
   "source": [
    "svc_model.fit(X_train,y_train)"
   ]
  },
  {
   "cell_type": "code",
   "execution_count": null,
   "metadata": {
    "collapsed": false
   },
   "outputs": [],
   "source": [
    "svc_predictions = svc_model.predict(X_test)\n",
    "get_performance_metrics(y_test,svc_predictions)"
   ]
  },
  {
   "cell_type": "markdown",
   "metadata": {},
   "source": [
    "### Objective of sprint 3 (~30 minutes):\n",
    "1. Write code for Stratified K-Fold Cross Validation (Decision Tree)\n",
    "2. Fit a random forest model.\n",
    "3. Add class weights to random forest model."
   ]
  },
  {
   "cell_type": "markdown",
   "metadata": {},
   "source": [
    "### Using Straified K-Fold Cross Validation (Decision Tree)\n",
    "\n",
    "maintaining percentage of samples for each class"
   ]
  },
  {
   "cell_type": "code",
   "execution_count": 28,
   "metadata": {
    "collapsed": false
   },
   "outputs": [
    {
     "name": "stdout",
     "output_type": "stream",
     "text": [
      "------------------------------\n",
      "('Accuracy at 0-Fold is', 0.99390080567060235)\n",
      "('Precision at 0-Fold is', array([ 0.9939041 ,  0.99741943,  0.7       ,  0.84507042,  0.96509863,  1.        ]))\n",
      "('Recall at 0-Fold is', array([ 0.9968576 ,  0.99862569,  0.38888889,  0.72507553,  0.89451477,\n",
      "        0.33333333]))\n",
      "('F1 score at 0-Fold is', array([ 0.99537866,  0.9980222 ,  0.5       ,  0.7804878 ,  0.92846715,\n",
      "        0.5       ]))\n",
      "Confusion matrix at 0-Fold is :-->\n",
      "[[29185    29     0    43    20     0]\n",
      " [   23 18166     0     0     2     0]\n",
      " [   10     0     7     0     1     0]\n",
      " [   86     2     3   240     0     0]\n",
      " [   58    16     0     1   636     0]\n",
      " [    2     0     0     0     0     1]]\n",
      "------------------------------\n"
     ]
    },
    {
     "name": "stderr",
     "output_type": "stream",
     "text": [
      "/Users/sourabhrohilla/anaconda/lib/python2.7/site-packages/sklearn/metrics/classification.py:1135: UndefinedMetricWarning: Precision and F-score are ill-defined and being set to 0.0 in labels with no predicted samples.\n",
      "  'precision', 'predicted', average, warn_for)\n"
     ]
    },
    {
     "name": "stdout",
     "output_type": "stream",
     "text": [
      "------------------------------\n",
      "('Accuracy at 1-Fold is', 0.9945186284207056)\n",
      "('Precision at 1-Fold is', array([ 0.99481689,  0.99802404,  0.64285714,  0.84262295,  0.9623494 ,  0.        ]))\n",
      "('Recall at 1-Fold is', array([ 0.99648188,  0.99956022,  0.52941176,  0.77878788,  0.9       ,  0.        ]))\n",
      "('F1 score at 1-Fold is', array([ 0.99564869,  0.99879154,  0.58064516,  0.80944882,  0.930131  ,  0.        ]))\n",
      "Confusion matrix at 1-Fold is :-->\n",
      "[[29174    31     4    44    24     0]\n",
      " [    4 18183     0     3     1     0]\n",
      " [    7     0     9     1     0     0]\n",
      " [   70     2     1   257     0     0]\n",
      " [   68     3     0     0   639     0]\n",
      " [    3     0     0     0     0     0]]\n",
      "------------------------------\n",
      "------------------------------\n",
      "('Accuracy at 2-Fold is', 0.99379713967769856)\n",
      "('Precision at 2-Fold is', array([ 0.99406973,  0.997531  ,  0.52631579,  0.83846154,  0.95575221,\n",
      "        0.5       ]))\n",
      "('Recall at 2-Fold is', array([ 0.99624278,  0.99950522,  0.58823529,  0.66060606,  0.91267606,\n",
      "        0.5       ]))\n",
      "('F1 score at 2-Fold is', array([ 0.99515507,  0.99851714,  0.55555556,  0.73898305,  0.93371758,\n",
      "        0.5       ]))\n",
      "Confusion matrix at 2-Fold is :-->\n",
      "[[29167    38     7    40    24     1]\n",
      " [    5 18181     0     0     4     0]\n",
      " [    6     0    10     1     0     0]\n",
      " [  108     0     2   218     2     0]\n",
      " [   54     7     0     1   648     0]\n",
      " [    1     0     0     0     0     1]]\n",
      "------------------------------\n",
      "('Average accuracy is', 0.99407219125633561)\n"
     ]
    }
   ],
   "source": [
    "dt_model = DecisionTreeClassifier(random_state = 3)\n",
    "skf = StratifiedKFold(n_splits = 3, shuffle = True, random_state = 2)\n",
    "predictions = []\n",
    "score = []\n",
    "\n",
    "for i, (train_index,test_index) in enumerate(skf.split(X_train,y_train)):\n",
    "\n",
    "    train_predictors = X_train.iloc[train_index]\n",
    "    train_target = y_train.iloc[train_index]\n",
    "    \n",
    "    test_predictors = X_train.iloc[test_index]\n",
    "    test_target = y_train.iloc[test_index]\n",
    "    \n",
    "    #fit the model\n",
    "    dt_model.fit(train_predictors,train_target)\n",
    "    \n",
    "    #make predictions\n",
    "    test_pred = dt_model.predict(test_predictors)\n",
    "   \n",
    "    accuracy = accuracy_score(test_target, test_pred)\n",
    "    score.append(accuracy)\n",
    "    \n",
    "    p, r, f1, support = precision_recall_fscore_support(test_target, test_pred)\n",
    "    confusion = confusion_matrix(test_target, test_pred)\n",
    "    \n",
    "    print('------------------------------')\n",
    "    print('Accuracy at {0}-Fold is'.format(i),accuracy)\n",
    "    print('Precision at {0}-Fold is'.format(i), p)\n",
    "    print('Recall at {0}-Fold is'.format(i), r)\n",
    "    print('F1 score at {0}-Fold is'.format(i), f1)\n",
    "    print('Confusion matrix at {0}-Fold is :-->'.format(i))\n",
    "    print(confusion)\n",
    "    print('------------------------------')\n",
    "    \n",
    "#calculating average accuracy , precision, recall, F1 score   \n",
    "print('Average accuracy is', np.mean(score))\n",
    "\n"
   ]
  },
  {
   "cell_type": "markdown",
   "metadata": {},
   "source": [
    "### Random Forest Model"
   ]
  },
  {
   "cell_type": "code",
   "execution_count": 29,
   "metadata": {
    "collapsed": true
   },
   "outputs": [],
   "source": [
    "rf_model = RandomForestClassifier(n_estimators=1000,n_jobs = -1, random_state=3)"
   ]
  },
  {
   "cell_type": "code",
   "execution_count": 30,
   "metadata": {
    "collapsed": false
   },
   "outputs": [
    {
     "data": {
      "text/plain": [
       "RandomForestClassifier(bootstrap=True, class_weight=None, criterion='gini',\n",
       "            max_depth=None, max_features='auto', max_leaf_nodes=None,\n",
       "            min_impurity_decrease=0.0, min_impurity_split=None,\n",
       "            min_samples_leaf=1, min_samples_split=2,\n",
       "            min_weight_fraction_leaf=0.0, n_estimators=1000, n_jobs=-1,\n",
       "            oob_score=False, random_state=3, verbose=0, warm_start=False)"
      ]
     },
     "execution_count": 30,
     "metadata": {},
     "output_type": "execute_result"
    }
   ],
   "source": [
    "# fitting data to random forest model\n",
    "rf_model.fit(X_train,y_train)"
   ]
  },
  {
   "cell_type": "code",
   "execution_count": 46,
   "metadata": {
    "collapsed": true
   },
   "outputs": [],
   "source": [
    "# predictions\n",
    "rf_predictions = rf_model.predict(X_test)"
   ]
  },
  {
   "cell_type": "code",
   "execution_count": 47,
   "metadata": {
    "collapsed": false
   },
   "outputs": [
    {
     "name": "stdout",
     "output_type": "stream",
     "text": [
      "('Accuracy is ', 0.98167155425219943)\n",
      "('Precision for each class is ', array([ 0.98635072,  0.99693157,  0.53846154,  0.94887218,  0.878125  ,\n",
      "        0.89588378]))\n",
      "('Recall/sensitivity for each class is ', array([ 0.99039933,  0.99723757,  0.58333333,  0.90530846,  0.73753281,\n",
      "        0.91887417]))\n",
      "('F1 Score for each class is ', array([ 0.98837088,  0.99708455,  0.56      ,  0.92657856,  0.80171184,\n",
      "        0.90723335]))\n",
      "confusion matrix is :-->\n",
      "[[14236     9     2    31     8    88]\n",
      " [    6  6498     0     0     8     4]\n",
      " [    2     0     7     0     0     3]\n",
      " [   59     0     2   631     0     5]\n",
      " [   62     9     0     0   281    29]\n",
      " [   68     2     2     3    23  1110]]\n"
     ]
    }
   ],
   "source": [
    "get_performance_metrics(y_test,rf_predictions)"
   ]
  },
  {
   "cell_type": "markdown",
   "metadata": {},
   "source": [
    "### One vs Rest Classifier\n",
    "\n",
    "The strategy consists in fitting one classifier per class. For each classifier, the class is fitted against all the other classes."
   ]
  },
  {
   "cell_type": "code",
   "execution_count": 64,
   "metadata": {
    "collapsed": false
   },
   "outputs": [
    {
     "data": {
      "text/plain": [
       "OneVsRestClassifier(estimator=DecisionTreeClassifier(class_weight=None, criterion='gini', max_depth=None,\n",
       "            max_features=None, max_leaf_nodes=None,\n",
       "            min_impurity_decrease=0.0, min_impurity_split=None,\n",
       "            min_samples_leaf=1, min_samples_split=2,\n",
       "            min_weight_fraction_leaf=0.0, presort=False, random_state=3,\n",
       "            splitter='best'),\n",
       "          n_jobs=1)"
      ]
     },
     "execution_count": 64,
     "metadata": {},
     "output_type": "execute_result"
    }
   ],
   "source": [
    "ovr_dt_model = OneVsRestClassifier(DecisionTreeClassifier(random_state = 3))\n",
    "ovr_dt_model.fit(X_train, y_train)"
   ]
  },
  {
   "cell_type": "code",
   "execution_count": 65,
   "metadata": {
    "collapsed": true
   },
   "outputs": [],
   "source": [
    "#making predictions\n",
    "ovr_dt_predictions = ovr_dt_model.predict(X_test)"
   ]
  },
  {
   "cell_type": "code",
   "execution_count": 66,
   "metadata": {
    "collapsed": false
   },
   "outputs": [
    {
     "name": "stdout",
     "output_type": "stream",
     "text": [
      "('Accuracy is ', 0.99890099825991396)\n",
      "('Precision for each class is ', array([ 0.99950651,  0.99993891,  0.69230769,  0.98630137,  0.96060606]))\n",
      "('Recall/sensitivity for each class is ', array([ 0.99916515,  0.9996946 ,  0.5625    ,  0.96969697,  0.99217527]))\n",
      "('F1 Score for each class is ', array([ 0.9993358 ,  0.99981674,  0.62068966,  0.97792869,  0.97613549]))\n",
      "confusion matrix is :-->\n",
      "[[26330     1     3     2    16]\n",
      " [    2 16367     0     0     3]\n",
      " [    2     0     9     2     3]\n",
      " [    4     0     1   288     4]\n",
      " [    5     0     0     0   634]]\n"
     ]
    }
   ],
   "source": [
    "get_performance_metrics(y_test,ovr_dt_predictions)"
   ]
  },
  {
   "cell_type": "markdown",
   "metadata": {},
   "source": [
    "### One vs One Classifier\n",
    "\n",
    "This strategy consists in fitting one classifier per class pair. At prediction time, the class which received the most votes is selected. "
   ]
  },
  {
   "cell_type": "code",
   "execution_count": 80,
   "metadata": {
    "collapsed": false
   },
   "outputs": [
    {
     "data": {
      "text/plain": [
       "OneVsOneClassifier(estimator=DecisionTreeClassifier(class_weight=None, criterion='gini', max_depth=None,\n",
       "            max_features=None, max_leaf_nodes=None,\n",
       "            min_impurity_decrease=0.0, min_impurity_split=None,\n",
       "            min_samples_leaf=1, min_samples_split=2,\n",
       "            min_weight_fraction_leaf=0.0, presort=False, random_state=3,\n",
       "            splitter='best'),\n",
       "          n_jobs=1)"
      ]
     },
     "execution_count": 80,
     "metadata": {},
     "output_type": "execute_result"
    }
   ],
   "source": [
    "ovo_dt_model = OneVsOneClassifier(DecisionTreeClassifier(random_state = 3))\n",
    "ovo_dt_model.fit(X_train, y_train)"
   ]
  },
  {
   "cell_type": "code",
   "execution_count": 81,
   "metadata": {
    "collapsed": true
   },
   "outputs": [],
   "source": [
    "#making predictions\n",
    "ovo_dt_predictions = ovo_dt_model.predict(X_test)"
   ]
  },
  {
   "cell_type": "code",
   "execution_count": 82,
   "metadata": {
    "collapsed": false
   },
   "outputs": [
    {
     "name": "stdout",
     "output_type": "stream",
     "text": [
      "('Accuracy is ', 0.9938181152120158)\n",
      "('Precision for each class is ', array([ 0.99401878,  0.99780421,  0.63636364,  0.79496403,  0.97395833]))\n",
      "('Recall/sensitivity for each class is ', array([ 0.99643291,  0.99920596,  0.4375    ,  0.74410774,  0.87793427]))\n",
      "('F1 Score for each class is ', array([ 0.99522438,  0.99850459,  0.51851852,  0.76869565,  0.92345679]))\n",
      "confusion matrix is :-->\n",
      "[[26258    28     2    52    12]\n",
      " [   10 16359     0     1     2]\n",
      " [    7     0     7     2     0]\n",
      " [   73     0     2   221     1]\n",
      " [   68     8     0     2   561]]\n"
     ]
    }
   ],
   "source": [
    "get_performance_metrics(y_test,ovo_dt_predictions)"
   ]
  },
  {
   "cell_type": "markdown",
   "metadata": {},
   "source": [
    "### Addressing imbalance data at the algorithm level, or after it:\n",
    "\n",
    "#### 1. Adjust the class weight (misclassification costs) for Random Forest"
   ]
  },
  {
   "cell_type": "code",
   "execution_count": 90,
   "metadata": {
    "collapsed": true
   },
   "outputs": [],
   "source": [
    "y_train_columns = pd.get_dummies(y_train,prefix = 'label')"
   ]
  },
  {
   "cell_type": "code",
   "execution_count": 91,
   "metadata": {
    "collapsed": false
   },
   "outputs": [
    {
     "data": {
      "text/html": [
       "<div>\n",
       "<style>\n",
       "    .dataframe thead tr:only-child th {\n",
       "        text-align: right;\n",
       "    }\n",
       "\n",
       "    .dataframe thead th {\n",
       "        text-align: left;\n",
       "    }\n",
       "\n",
       "    .dataframe tbody tr th {\n",
       "        vertical-align: top;\n",
       "    }\n",
       "</style>\n",
       "<table border=\"1\" class=\"dataframe\">\n",
       "  <thead>\n",
       "    <tr style=\"text-align: right;\">\n",
       "      <th></th>\n",
       "      <th>0</th>\n",
       "      <th>1</th>\n",
       "      <th>2</th>\n",
       "      <th>3</th>\n",
       "      <th>4</th>\n",
       "      <th>5</th>\n",
       "    </tr>\n",
       "  </thead>\n",
       "  <tbody>\n",
       "    <tr>\n",
       "      <th>0</th>\n",
       "      <td>1.0</td>\n",
       "      <td>0.0</td>\n",
       "      <td>0.0</td>\n",
       "      <td>0.0</td>\n",
       "      <td>0.0</td>\n",
       "      <td>0.0</td>\n",
       "    </tr>\n",
       "    <tr>\n",
       "      <th>1</th>\n",
       "      <td>1.0</td>\n",
       "      <td>0.0</td>\n",
       "      <td>0.0</td>\n",
       "      <td>0.0</td>\n",
       "      <td>0.0</td>\n",
       "      <td>0.0</td>\n",
       "    </tr>\n",
       "    <tr>\n",
       "      <th>2</th>\n",
       "      <td>1.0</td>\n",
       "      <td>0.0</td>\n",
       "      <td>0.0</td>\n",
       "      <td>0.0</td>\n",
       "      <td>0.0</td>\n",
       "      <td>0.0</td>\n",
       "    </tr>\n",
       "    <tr>\n",
       "      <th>3</th>\n",
       "      <td>1.0</td>\n",
       "      <td>0.0</td>\n",
       "      <td>0.0</td>\n",
       "      <td>0.0</td>\n",
       "      <td>0.0</td>\n",
       "      <td>0.0</td>\n",
       "    </tr>\n",
       "    <tr>\n",
       "      <th>4</th>\n",
       "      <td>1.0</td>\n",
       "      <td>0.0</td>\n",
       "      <td>0.0</td>\n",
       "      <td>0.0</td>\n",
       "      <td>0.0</td>\n",
       "      <td>0.0</td>\n",
       "    </tr>\n",
       "  </tbody>\n",
       "</table>\n",
       "</div>"
      ],
      "text/plain": [
       "     0    1    2    3    4    5\n",
       "0  1.0  0.0  0.0  0.0  0.0  0.0\n",
       "1  1.0  0.0  0.0  0.0  0.0  0.0\n",
       "2  1.0  0.0  0.0  0.0  0.0  0.0\n",
       "3  1.0  0.0  0.0  0.0  0.0  0.0\n",
       "4  1.0  0.0  0.0  0.0  0.0  0.0"
      ]
     },
     "execution_count": 91,
     "metadata": {},
     "output_type": "execute_result"
    }
   ],
   "source": [
    "# X_train, X_test, y_train, y_test = train_test_split(X, y, test_size=0.30, random_state=3, stratify = y)\n",
    "Cost_weights = [{0: 1, 1: 1}, {0: 1, 1: 5}, {0: 1, 1: 100}, {0: 1, 1: 50},{0: 1, 1: 10},{0: 1, 1: 10}]\n",
    "\n",
    "rf_model = RandomForestClassifier(n_estimators=100,n_jobs = -1, random_state=3, class_weight=Cost_weights)\n",
    "# fitting data to random forest model\n",
    "rf_model.fit(X_train,y_train_columns)\n",
    "\n",
    "# predictions\n",
    "rf_predictions_df = pd.DataFrame(rf_model.predict(X_test))\n",
    "rf_predictions_df.head()"
   ]
  },
  {
   "cell_type": "code",
   "execution_count": 92,
   "metadata": {
    "collapsed": false
   },
   "outputs": [
    {
     "name": "stdout",
     "output_type": "stream",
     "text": [
      "('Accuracy is ', 0.91380626463624481)\n",
      "('Precision for each class is ', array([ 0.89110318,  0.98739247,  0.        ,  0.90909091,  0.69404631,  0.        ]))\n",
      "('Recall/sensitivity for each class is ', array([ 0.99484482,  0.99880295,  0.        ,  0.00430108,  0.99211978,  0.        ]))\n",
      "('F1 Score for each class is ', array([ 0.94012071,  0.99306493,  0.        ,  0.00856164,  0.81673694,  0.        ]))\n"
     ]
    },
    {
     "name": "stderr",
     "output_type": "stream",
     "text": [
      "/Users/sourabhrohilla/anaconda/lib/python2.7/site-packages/sklearn/metrics/classification.py:1135: UndefinedMetricWarning: Precision and F-score are ill-defined and being set to 0.0 in labels with no predicted samples.\n",
      "  'precision', 'predicted', average, warn_for)\n"
     ]
    },
    {
     "name": "stdout",
     "output_type": "stream",
     "text": [
      "confusion matrix is :-->\n",
      "[[47666    59     1     1   186     0]\n",
      " [   23 21694     0     0     3     0]\n",
      " [   39     0     0     0     0     0]\n",
      " [ 2315     0     0    10     0     0]\n",
      " [    9     1     0     0  1259     0]\n",
      " [ 3439   217     3     0   366     0]]\n"
     ]
    }
   ],
   "source": [
    "rf_predictions_df['predict'] =  rf_predictions_df.apply(\n",
    "                        lambda row: row[0]*0 + row[1]*1+row[2]*2 + row[3]*3 + row[4]*4 , axis=1)\n",
    "rf_predictions=rf_predictions_df['predict']\n",
    "get_performance_metrics(y_test,rf_predictions)"
   ]
  },
  {
   "cell_type": "markdown",
   "metadata": {
    "collapsed": true
   },
   "source": [
    "### Build a classifier for predicting UTR attacks."
   ]
  },
  {
   "cell_type": "markdown",
   "metadata": {},
   "source": [
    "1. Build a classifier to distinguish between UTR and non-UTR attacks. UTR is label 2.\n",
    "2. Use SMOTE to tackle high class imbalance."
   ]
  },
  {
   "cell_type": "code",
   "execution_count": 114,
   "metadata": {
    "collapsed": false
   },
   "outputs": [],
   "source": [
    "y_train_utr = y_train.copy(deep=True)\n",
    "y_train_utr[y_train_utr!=2] = 0\n",
    "y_train_utr[y_train_utr==2] = 1\n",
    "\n",
    "\n",
    "y_test_utr = y_test.copy(deep=True)\n",
    "y_test_utr[y_test_utr!=2] = 0\n",
    "y_test_utr[y_test_utr==2] = 1"
   ]
  },
  {
   "cell_type": "code",
   "execution_count": 115,
   "metadata": {
    "collapsed": false
   },
   "outputs": [
    {
     "name": "stdout",
     "output_type": "stream",
     "text": [
      "('Accuracy is ', 0.99946953720355536)\n",
      "('Precision for each class is ', array([ 0.99971523,  0.47222222]))\n",
      "('Recall/sensitivity for each class is ', array([ 0.99975405,  0.43589744]))\n",
      "('F1 Score for each class is ', array([ 0.99973464,  0.45333333]))\n",
      "confusion matrix is :-->\n",
      "[[77233    19]\n",
      " [   22    17]]\n"
     ]
    }
   ],
   "source": [
    "rf_model_utr = RandomForestClassifier(n_estimators=1000,n_jobs = -1, random_state=3)\n",
    "rf_model_utr.fit(X_train,y_train_utr)\n",
    "rf_predictions = rf_model_utr.predict(X_test)\n",
    "get_performance_metrics(y_test_utr,rf_predictions)"
   ]
  },
  {
   "cell_type": "code",
   "execution_count": 116,
   "metadata": {
    "collapsed": false
   },
   "outputs": [],
   "source": [
    "from imblearn.over_sampling import SMOTE\n",
    "sm = SMOTE()\n",
    "X_train_utr_smote,y_train_utr_smote = sm.fit_sample(X_train,y_train_utr)"
   ]
  },
  {
   "cell_type": "code",
   "execution_count": 117,
   "metadata": {
    "collapsed": false
   },
   "outputs": [
    {
     "name": "stdout",
     "output_type": "stream",
     "text": [
      "('Accuracy is ', 0.99937897038465018)\n",
      "('Precision for each class is ', array([ 0.99967639,  0.37837838]))\n",
      "('Recall/sensitivity for each class is ', array([ 0.99970227,  0.35897436]))\n",
      "('F1 Score for each class is ', array([ 0.99968933,  0.36842105]))\n",
      "confusion matrix is :-->\n",
      "[[77229    23]\n",
      " [   25    14]]\n"
     ]
    }
   ],
   "source": [
    "rf_model_utr_smote = RandomForestClassifier(n_estimators=1000,n_jobs = -1, random_state=3)\n",
    "rf_model_utr_smote.fit(X_train_utr_smote,y_train_utr_smote)\n",
    "rf_predictions = rf_model_utr_smote.predict(X_test)\n",
    "get_performance_metrics(y_test_utr,rf_predictions)"
   ]
  },
  {
   "cell_type": "code",
   "execution_count": null,
   "metadata": {
    "collapsed": true
   },
   "outputs": [],
   "source": []
  }
 ],
 "metadata": {
  "anaconda-cloud": {},
  "kernelspec": {
   "display_name": "Python [conda root]",
   "language": "python",
   "name": "conda-root-py"
  },
  "language_info": {
   "codemirror_mode": {
    "name": "ipython",
    "version": 2
   },
   "file_extension": ".py",
   "mimetype": "text/x-python",
   "name": "python",
   "nbconvert_exporter": "python",
   "pygments_lexer": "ipython2",
   "version": "2.7.13"
  }
 },
 "nbformat": 4,
 "nbformat_minor": 2
}
